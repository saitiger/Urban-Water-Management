{
 "cells": [
  {
   "cell_type": "markdown",
   "id": "363b36ee",
   "metadata": {},
   "source": [
    "# Modeling the demand and water supplies for the 5 watersheds"
   ]
  },
  {
   "cell_type": "markdown",
   "id": "9ed5d7ec",
   "metadata": {},
   "source": [
    "### Demand side: \n",
    "\n",
    "Use the billing data to determine the volume of water provided"
   ]
  },
  {
   "cell_type": "markdown",
   "id": "5b31756b",
   "metadata": {},
   "source": [
    "### Supply side:\n",
    "\n",
    "- Water produced from supplier’s sources\n",
    "- Water purchased from other suppliers\n",
    "- Non-revenue water (e.g. leaks, theft, water used to fight fires)\n",
    "- Commercial agriculture\n",
    "\n",
    "(Not including produced but stored water)"
   ]
  },
  {
   "cell_type": "code",
   "execution_count": 1,
   "id": "275e4740",
   "metadata": {},
   "outputs": [],
   "source": [
    "import pandas as pd \n",
    "import numpy as np\n",
    "import matplotlib.pyplot as plt "
   ]
  },
  {
   "cell_type": "code",
   "execution_count": 2,
   "id": "2abbf84e",
   "metadata": {},
   "outputs": [],
   "source": [
    "df_LAdemand = pd.read_excel('~/Downloads/Resevoir_data.xlsx', sheet_name=2)"
   ]
  },
  {
   "cell_type": "code",
   "execution_count": 3,
   "id": "dea6c90c",
   "metadata": {},
   "outputs": [],
   "source": [
    "df_LAdemand.rename(columns = {'Unnamed: 0':'Date'}, inplace=True)\n",
    "df_LAdemand['Date'] = pd.to_datetime(df_LAdemand['Date'])\n",
    "df_LAdemand.set_index('Date', inplace = True, drop = True)"
   ]
  },
  {
   "cell_type": "code",
   "execution_count": 4,
   "id": "7e7abf68",
   "metadata": {
    "scrolled": true
   },
   "outputs": [
    {
     "data": {
      "text/html": [
       "<div>\n",
       "<style scoped>\n",
       "    .dataframe tbody tr th:only-of-type {\n",
       "        vertical-align: middle;\n",
       "    }\n",
       "\n",
       "    .dataframe tbody tr th {\n",
       "        vertical-align: top;\n",
       "    }\n",
       "\n",
       "    .dataframe thead th {\n",
       "        text-align: right;\n",
       "    }\n",
       "</style>\n",
       "<table border=\"1\" class=\"dataframe\">\n",
       "  <thead>\n",
       "    <tr style=\"text-align: right;\">\n",
       "      <th></th>\n",
       "      <th>Population served</th>\n",
       "      <th>Systemwide per-capita usage</th>\n",
       "      <th>Residential per-capita usage</th>\n",
       "    </tr>\n",
       "    <tr>\n",
       "      <th>Date</th>\n",
       "      <th></th>\n",
       "      <th></th>\n",
       "      <th></th>\n",
       "    </tr>\n",
       "  </thead>\n",
       "  <tbody>\n",
       "    <tr>\n",
       "      <th>2018-01-01</th>\n",
       "      <td>4083110</td>\n",
       "      <td>100</td>\n",
       "      <td>62</td>\n",
       "    </tr>\n",
       "    <tr>\n",
       "      <th>2018-02-01</th>\n",
       "      <td>4117401</td>\n",
       "      <td>105</td>\n",
       "      <td>69</td>\n",
       "    </tr>\n",
       "    <tr>\n",
       "      <th>2018-03-01</th>\n",
       "      <td>4120870</td>\n",
       "      <td>87</td>\n",
       "      <td>59</td>\n",
       "    </tr>\n",
       "    <tr>\n",
       "      <th>2018-04-01</th>\n",
       "      <td>4124338</td>\n",
       "      <td>105</td>\n",
       "      <td>60</td>\n",
       "    </tr>\n",
       "    <tr>\n",
       "      <th>2018-05-01</th>\n",
       "      <td>4085000</td>\n",
       "      <td>109</td>\n",
       "      <td>63</td>\n",
       "    </tr>\n",
       "    <tr>\n",
       "      <th>2018-06-01</th>\n",
       "      <td>4085000</td>\n",
       "      <td>118</td>\n",
       "      <td>71</td>\n",
       "    </tr>\n",
       "    <tr>\n",
       "      <th>2018-07-01</th>\n",
       "      <td>4085000</td>\n",
       "      <td>131</td>\n",
       "      <td>73</td>\n",
       "    </tr>\n",
       "    <tr>\n",
       "      <th>2018-08-01</th>\n",
       "      <td>4099384</td>\n",
       "      <td>130</td>\n",
       "      <td>78</td>\n",
       "    </tr>\n",
       "    <tr>\n",
       "      <th>2018-09-01</th>\n",
       "      <td>4101439</td>\n",
       "      <td>123</td>\n",
       "      <td>80</td>\n",
       "    </tr>\n",
       "    <tr>\n",
       "      <th>2018-10-01</th>\n",
       "      <td>4103494</td>\n",
       "      <td>113</td>\n",
       "      <td>78</td>\n",
       "    </tr>\n",
       "    <tr>\n",
       "      <th>2018-11-01</th>\n",
       "      <td>4105549</td>\n",
       "      <td>106</td>\n",
       "      <td>83</td>\n",
       "    </tr>\n",
       "    <tr>\n",
       "      <th>2018-12-01</th>\n",
       "      <td>4107604</td>\n",
       "      <td>91</td>\n",
       "      <td>64</td>\n",
       "    </tr>\n",
       "    <tr>\n",
       "      <th>2019-01-01</th>\n",
       "      <td>4109659</td>\n",
       "      <td>82</td>\n",
       "      <td>64</td>\n",
       "    </tr>\n",
       "    <tr>\n",
       "      <th>2019-02-01</th>\n",
       "      <td>4111714</td>\n",
       "      <td>84</td>\n",
       "      <td>60</td>\n",
       "    </tr>\n",
       "    <tr>\n",
       "      <th>2019-03-01</th>\n",
       "      <td>4113769</td>\n",
       "      <td>86</td>\n",
       "      <td>50</td>\n",
       "    </tr>\n",
       "    <tr>\n",
       "      <th>2019-04-01</th>\n",
       "      <td>4113769</td>\n",
       "      <td>102</td>\n",
       "      <td>55</td>\n",
       "    </tr>\n",
       "    <tr>\n",
       "      <th>2019-05-01</th>\n",
       "      <td>4075219</td>\n",
       "      <td>101</td>\n",
       "      <td>61</td>\n",
       "    </tr>\n",
       "    <tr>\n",
       "      <th>2019-06-01</th>\n",
       "      <td>4076352</td>\n",
       "      <td>111</td>\n",
       "      <td>67</td>\n",
       "    </tr>\n",
       "    <tr>\n",
       "      <th>2019-07-01</th>\n",
       "      <td>4077486</td>\n",
       "      <td>121</td>\n",
       "      <td>82</td>\n",
       "    </tr>\n",
       "    <tr>\n",
       "      <th>2019-08-01</th>\n",
       "      <td>4078621</td>\n",
       "      <td>123</td>\n",
       "      <td>80</td>\n",
       "    </tr>\n",
       "    <tr>\n",
       "      <th>2019-09-01</th>\n",
       "      <td>4079755</td>\n",
       "      <td>120</td>\n",
       "      <td>84</td>\n",
       "    </tr>\n",
       "    <tr>\n",
       "      <th>2019-10-01</th>\n",
       "      <td>4080890</td>\n",
       "      <td>116</td>\n",
       "      <td>83</td>\n",
       "    </tr>\n",
       "    <tr>\n",
       "      <th>2019-11-01</th>\n",
       "      <td>4082024</td>\n",
       "      <td>104</td>\n",
       "      <td>74</td>\n",
       "    </tr>\n",
       "    <tr>\n",
       "      <th>2019-12-01</th>\n",
       "      <td>4083159</td>\n",
       "      <td>84</td>\n",
       "      <td>59</td>\n",
       "    </tr>\n",
       "    <tr>\n",
       "      <th>2020-01-01</th>\n",
       "      <td>4084293</td>\n",
       "      <td>87</td>\n",
       "      <td>63</td>\n",
       "    </tr>\n",
       "    <tr>\n",
       "      <th>2020-02-01</th>\n",
       "      <td>4085428</td>\n",
       "      <td>100</td>\n",
       "      <td>62</td>\n",
       "    </tr>\n",
       "    <tr>\n",
       "      <th>2020-03-01</th>\n",
       "      <td>4086562</td>\n",
       "      <td>85</td>\n",
       "      <td>61</td>\n",
       "    </tr>\n",
       "    <tr>\n",
       "      <th>2020-04-01</th>\n",
       "      <td>4087697</td>\n",
       "      <td>89</td>\n",
       "      <td>60</td>\n",
       "    </tr>\n",
       "    <tr>\n",
       "      <th>2020-05-01</th>\n",
       "      <td>4088831</td>\n",
       "      <td>108</td>\n",
       "      <td>63</td>\n",
       "    </tr>\n",
       "    <tr>\n",
       "      <th>2020-06-01</th>\n",
       "      <td>4089966</td>\n",
       "      <td>115</td>\n",
       "      <td>74</td>\n",
       "    </tr>\n",
       "    <tr>\n",
       "      <th>2020-07-01</th>\n",
       "      <td>4000414</td>\n",
       "      <td>123</td>\n",
       "      <td>77</td>\n",
       "    </tr>\n",
       "    <tr>\n",
       "      <th>2020-08-01</th>\n",
       "      <td>4035252</td>\n",
       "      <td>126</td>\n",
       "      <td>87</td>\n",
       "    </tr>\n",
       "    <tr>\n",
       "      <th>2020-09-01</th>\n",
       "      <td>4034390</td>\n",
       "      <td>124</td>\n",
       "      <td>86</td>\n",
       "    </tr>\n",
       "    <tr>\n",
       "      <th>2020-10-01</th>\n",
       "      <td>4033528</td>\n",
       "      <td>118</td>\n",
       "      <td>83</td>\n",
       "    </tr>\n",
       "    <tr>\n",
       "      <th>2020-11-01</th>\n",
       "      <td>4032667</td>\n",
       "      <td>108</td>\n",
       "      <td>84</td>\n",
       "    </tr>\n",
       "    <tr>\n",
       "      <th>2020-12-01</th>\n",
       "      <td>4031805</td>\n",
       "      <td>102</td>\n",
       "      <td>75</td>\n",
       "    </tr>\n",
       "    <tr>\n",
       "      <th>2021-01-01</th>\n",
       "      <td>4030943</td>\n",
       "      <td>94</td>\n",
       "      <td>71</td>\n",
       "    </tr>\n",
       "    <tr>\n",
       "      <th>2021-02-01</th>\n",
       "      <td>4030081</td>\n",
       "      <td>95</td>\n",
       "      <td>70</td>\n",
       "    </tr>\n",
       "    <tr>\n",
       "      <th>2021-03-01</th>\n",
       "      <td>4029220</td>\n",
       "      <td>97</td>\n",
       "      <td>66</td>\n",
       "    </tr>\n",
       "    <tr>\n",
       "      <th>2021-04-01</th>\n",
       "      <td>4028358</td>\n",
       "      <td>110</td>\n",
       "      <td>64</td>\n",
       "    </tr>\n",
       "    <tr>\n",
       "      <th>2021-05-01</th>\n",
       "      <td>4027496</td>\n",
       "      <td>114</td>\n",
       "      <td>71</td>\n",
       "    </tr>\n",
       "    <tr>\n",
       "      <th>2021-06-01</th>\n",
       "      <td>4026634</td>\n",
       "      <td>121</td>\n",
       "      <td>77</td>\n",
       "    </tr>\n",
       "    <tr>\n",
       "      <th>2021-07-01</th>\n",
       "      <td>3934779</td>\n",
       "      <td>126</td>\n",
       "      <td>78</td>\n",
       "    </tr>\n",
       "    <tr>\n",
       "      <th>2021-08-01</th>\n",
       "      <td>3931585</td>\n",
       "      <td>128</td>\n",
       "      <td>82</td>\n",
       "    </tr>\n",
       "    <tr>\n",
       "      <th>2021-09-01</th>\n",
       "      <td>3928392</td>\n",
       "      <td>124</td>\n",
       "      <td>88</td>\n",
       "    </tr>\n",
       "    <tr>\n",
       "      <th>2021-10-01</th>\n",
       "      <td>3925198</td>\n",
       "      <td>113</td>\n",
       "      <td>79</td>\n",
       "    </tr>\n",
       "    <tr>\n",
       "      <th>2021-11-01</th>\n",
       "      <td>3922004</td>\n",
       "      <td>110</td>\n",
       "      <td>75</td>\n",
       "    </tr>\n",
       "    <tr>\n",
       "      <th>2021-12-01</th>\n",
       "      <td>3918811</td>\n",
       "      <td>92</td>\n",
       "      <td>70</td>\n",
       "    </tr>\n",
       "    <tr>\n",
       "      <th>2022-01-01</th>\n",
       "      <td>3915617</td>\n",
       "      <td>94</td>\n",
       "      <td>68</td>\n",
       "    </tr>\n",
       "    <tr>\n",
       "      <th>2022-02-01</th>\n",
       "      <td>3912423</td>\n",
       "      <td>104</td>\n",
       "      <td>67</td>\n",
       "    </tr>\n",
       "    <tr>\n",
       "      <th>2022-03-01</th>\n",
       "      <td>3909230</td>\n",
       "      <td>108</td>\n",
       "      <td>64</td>\n",
       "    </tr>\n",
       "    <tr>\n",
       "      <th>2022-04-01</th>\n",
       "      <td>3906036</td>\n",
       "      <td>114</td>\n",
       "      <td>68</td>\n",
       "    </tr>\n",
       "    <tr>\n",
       "      <th>2022-05-01</th>\n",
       "      <td>3902842</td>\n",
       "      <td>112</td>\n",
       "      <td>66</td>\n",
       "    </tr>\n",
       "    <tr>\n",
       "      <th>2022-06-01</th>\n",
       "      <td>3899649</td>\n",
       "      <td>112</td>\n",
       "      <td>72</td>\n",
       "    </tr>\n",
       "    <tr>\n",
       "      <th>2022-07-01</th>\n",
       "      <td>3835166</td>\n",
       "      <td>115</td>\n",
       "      <td>74</td>\n",
       "    </tr>\n",
       "    <tr>\n",
       "      <th>2022-08-01</th>\n",
       "      <td>3829559</td>\n",
       "      <td>118</td>\n",
       "      <td>73</td>\n",
       "    </tr>\n",
       "    <tr>\n",
       "      <th>2022-09-01</th>\n",
       "      <td>3823951</td>\n",
       "      <td>116</td>\n",
       "      <td>76</td>\n",
       "    </tr>\n",
       "  </tbody>\n",
       "</table>\n",
       "</div>"
      ],
      "text/plain": [
       "            Population served  Systemwide per-capita usage  \\\n",
       "Date                                                         \n",
       "2018-01-01            4083110                          100   \n",
       "2018-02-01            4117401                          105   \n",
       "2018-03-01            4120870                           87   \n",
       "2018-04-01            4124338                          105   \n",
       "2018-05-01            4085000                          109   \n",
       "2018-06-01            4085000                          118   \n",
       "2018-07-01            4085000                          131   \n",
       "2018-08-01            4099384                          130   \n",
       "2018-09-01            4101439                          123   \n",
       "2018-10-01            4103494                          113   \n",
       "2018-11-01            4105549                          106   \n",
       "2018-12-01            4107604                           91   \n",
       "2019-01-01            4109659                           82   \n",
       "2019-02-01            4111714                           84   \n",
       "2019-03-01            4113769                           86   \n",
       "2019-04-01            4113769                          102   \n",
       "2019-05-01            4075219                          101   \n",
       "2019-06-01            4076352                          111   \n",
       "2019-07-01            4077486                          121   \n",
       "2019-08-01            4078621                          123   \n",
       "2019-09-01            4079755                          120   \n",
       "2019-10-01            4080890                          116   \n",
       "2019-11-01            4082024                          104   \n",
       "2019-12-01            4083159                           84   \n",
       "2020-01-01            4084293                           87   \n",
       "2020-02-01            4085428                          100   \n",
       "2020-03-01            4086562                           85   \n",
       "2020-04-01            4087697                           89   \n",
       "2020-05-01            4088831                          108   \n",
       "2020-06-01            4089966                          115   \n",
       "2020-07-01            4000414                          123   \n",
       "2020-08-01            4035252                          126   \n",
       "2020-09-01            4034390                          124   \n",
       "2020-10-01            4033528                          118   \n",
       "2020-11-01            4032667                          108   \n",
       "2020-12-01            4031805                          102   \n",
       "2021-01-01            4030943                           94   \n",
       "2021-02-01            4030081                           95   \n",
       "2021-03-01            4029220                           97   \n",
       "2021-04-01            4028358                          110   \n",
       "2021-05-01            4027496                          114   \n",
       "2021-06-01            4026634                          121   \n",
       "2021-07-01            3934779                          126   \n",
       "2021-08-01            3931585                          128   \n",
       "2021-09-01            3928392                          124   \n",
       "2021-10-01            3925198                          113   \n",
       "2021-11-01            3922004                          110   \n",
       "2021-12-01            3918811                           92   \n",
       "2022-01-01            3915617                           94   \n",
       "2022-02-01            3912423                          104   \n",
       "2022-03-01            3909230                          108   \n",
       "2022-04-01            3906036                          114   \n",
       "2022-05-01            3902842                          112   \n",
       "2022-06-01            3899649                          112   \n",
       "2022-07-01            3835166                          115   \n",
       "2022-08-01            3829559                          118   \n",
       "2022-09-01            3823951                          116   \n",
       "\n",
       "            Residential per-capita usage  \n",
       "Date                                      \n",
       "2018-01-01                            62  \n",
       "2018-02-01                            69  \n",
       "2018-03-01                            59  \n",
       "2018-04-01                            60  \n",
       "2018-05-01                            63  \n",
       "2018-06-01                            71  \n",
       "2018-07-01                            73  \n",
       "2018-08-01                            78  \n",
       "2018-09-01                            80  \n",
       "2018-10-01                            78  \n",
       "2018-11-01                            83  \n",
       "2018-12-01                            64  \n",
       "2019-01-01                            64  \n",
       "2019-02-01                            60  \n",
       "2019-03-01                            50  \n",
       "2019-04-01                            55  \n",
       "2019-05-01                            61  \n",
       "2019-06-01                            67  \n",
       "2019-07-01                            82  \n",
       "2019-08-01                            80  \n",
       "2019-09-01                            84  \n",
       "2019-10-01                            83  \n",
       "2019-11-01                            74  \n",
       "2019-12-01                            59  \n",
       "2020-01-01                            63  \n",
       "2020-02-01                            62  \n",
       "2020-03-01                            61  \n",
       "2020-04-01                            60  \n",
       "2020-05-01                            63  \n",
       "2020-06-01                            74  \n",
       "2020-07-01                            77  \n",
       "2020-08-01                            87  \n",
       "2020-09-01                            86  \n",
       "2020-10-01                            83  \n",
       "2020-11-01                            84  \n",
       "2020-12-01                            75  \n",
       "2021-01-01                            71  \n",
       "2021-02-01                            70  \n",
       "2021-03-01                            66  \n",
       "2021-04-01                            64  \n",
       "2021-05-01                            71  \n",
       "2021-06-01                            77  \n",
       "2021-07-01                            78  \n",
       "2021-08-01                            82  \n",
       "2021-09-01                            88  \n",
       "2021-10-01                            79  \n",
       "2021-11-01                            75  \n",
       "2021-12-01                            70  \n",
       "2022-01-01                            68  \n",
       "2022-02-01                            67  \n",
       "2022-03-01                            64  \n",
       "2022-04-01                            68  \n",
       "2022-05-01                            66  \n",
       "2022-06-01                            72  \n",
       "2022-07-01                            74  \n",
       "2022-08-01                            73  \n",
       "2022-09-01                            76  "
      ]
     },
     "execution_count": 4,
     "metadata": {},
     "output_type": "execute_result"
    }
   ],
   "source": [
    "df_LAdemand"
   ]
  },
  {
   "cell_type": "code",
   "execution_count": 5,
   "id": "055cd7a2",
   "metadata": {},
   "outputs": [],
   "source": [
    "from statsmodels.tsa.arima.model import ARIMA"
   ]
  },
  {
   "cell_type": "code",
   "execution_count": 6,
   "id": "bc11cc51",
   "metadata": {
    "scrolled": false
   },
   "outputs": [
    {
     "data": {
      "text/plain": [
       "Text(0, 0.5, 'gpcd')"
      ]
     },
     "execution_count": 6,
     "metadata": {},
     "output_type": "execute_result"
    },
    {
     "data": {
      "image/png": "[encoded data removed]",
      "text/plain": [
       "<Figure size 432x288 with 1 Axes>"
      ]
     },
     "metadata": {
      "needs_background": "light"
     },
     "output_type": "display_data"
    }
   ],
   "source": [
    "systemwide = df_LAdemand['Systemwide per-capita usage']\n",
    "plt.plot(systemwide)\n",
    "plt.title(\"Systemwide Demand\")\n",
    "plt.xlabel(\"Years\")\n",
    "plt.ylabel(\"gpcd\")"
   ]
  },
  {
   "cell_type": "code",
   "execution_count": 7,
   "id": "0754536a",
   "metadata": {
    "scrolled": true
   },
   "outputs": [
    {
     "name": "stderr",
     "output_type": "stream",
     "text": [
      "/Users/macos/opt/anaconda3/lib/python3.9/site-packages/statsmodels/tsa/base/tsa_model.py:471: ValueWarning: No frequency information was provided, so inferred frequency MS will be used.\n",
      "  self._init_dates(dates, freq)\n",
      "/Users/macos/opt/anaconda3/lib/python3.9/site-packages/statsmodels/tsa/base/tsa_model.py:471: ValueWarning: No frequency information was provided, so inferred frequency MS will be used.\n",
      "  self._init_dates(dates, freq)\n",
      "/Users/macos/opt/anaconda3/lib/python3.9/site-packages/statsmodels/tsa/base/tsa_model.py:471: ValueWarning: No frequency information was provided, so inferred frequency MS will be used.\n",
      "  self._init_dates(dates, freq)\n"
     ]
    },
    {
     "name": "stdout",
     "output_type": "stream",
     "text": [
      "                                    SARIMAX Results                                    \n",
      "=======================================================================================\n",
      "Dep. Variable:     Systemwide per-capita usage   No. Observations:                   57\n",
      "Model:                          ARIMA(4, 1, 0)   Log Likelihood                -197.327\n",
      "Date:                         Thu, 04 May 2023   AIC                            404.654\n",
      "Time:                                 22:12:32   BIC                            414.781\n",
      "Sample:                             01-01-2018   HQIC                           408.581\n",
      "                                  - 09-01-2022                                         \n",
      "Covariance Type:                           opg                                         \n",
      "==============================================================================\n",
      "                 coef    std err          z      P>|z|      [0.025      0.975]\n",
      "------------------------------------------------------------------------------\n",
      "ar.L1          0.2273      0.118      1.918      0.055      -0.005       0.459\n",
      "ar.L2          0.0498      0.117      0.425      0.671      -0.180       0.280\n",
      "ar.L3          0.1469      0.141      1.043      0.297      -0.129       0.423\n",
      "ar.L4         -0.3718      0.169     -2.196      0.028      -0.704      -0.040\n",
      "sigma2        66.5321     14.626      4.549      0.000      37.866      95.198\n",
      "===================================================================================\n",
      "Ljung-Box (L1) (Q):                   0.78   Jarque-Bera (JB):                 0.27\n",
      "Prob(Q):                              0.38   Prob(JB):                         0.87\n",
      "Heteroskedasticity (H):               0.46   Skew:                            -0.14\n",
      "Prob(H) (two-sided):                  0.10   Kurtosis:                         3.20\n",
      "===================================================================================\n",
      "\n",
      "Warnings:\n",
      "[1] Covariance matrix calculated using the outer product of gradients (complex-step).\n"
     ]
    }
   ],
   "source": [
    "model = ARIMA(systemwide, order=(4,1,0))\n",
    "model_fitted = model.fit()\n",
    "print(model_fitted.summary())"
   ]
  },
  {
   "cell_type": "markdown",
   "id": "234a13a5",
   "metadata": {},
   "source": [
    "### Evaluation "
   ]
  },
  {
   "cell_type": "code",
   "execution_count": 8,
   "id": "03f86fef",
   "metadata": {},
   "outputs": [
    {
     "data": {
      "text/plain": [
       "Text(0.5, 1.0, 'Residual plot')"
      ]
     },
     "execution_count": 8,
     "metadata": {},
     "output_type": "execute_result"
    },
    {
     "data": {
      "image/png": "[encoded data removed]",
      "text/plain": [
       "<Figure size 432x288 with 1 Axes>"
      ]
     },
     "metadata": {
      "needs_background": "light"
     },
     "output_type": "display_data"
    }
   ],
   "source": [
    "pd.DataFrame(model_fitted.resid).plot()\n",
    "plt.title(\"Residual plot\")"
   ]
  },
  {
   "cell_type": "markdown",
   "id": "b04dfcd3",
   "metadata": {},
   "source": [
    "Looking at the residual plot, there are some information that are not captured by the model which could be noise."
   ]
  },
  {
   "cell_type": "code",
   "execution_count": 9,
   "id": "e629cd90",
   "metadata": {},
   "outputs": [
    {
     "data": {
      "text/html": [
       "<div>\n",
       "<style scoped>\n",
       "    .dataframe tbody tr th:only-of-type {\n",
       "        vertical-align: middle;\n",
       "    }\n",
       "\n",
       "    .dataframe tbody tr th {\n",
       "        vertical-align: top;\n",
       "    }\n",
       "\n",
       "    .dataframe thead th {\n",
       "        text-align: right;\n",
       "    }\n",
       "</style>\n",
       "<table border=\"1\" class=\"dataframe\">\n",
       "  <thead>\n",
       "    <tr style=\"text-align: right;\">\n",
       "      <th></th>\n",
       "      <th>0</th>\n",
       "    </tr>\n",
       "  </thead>\n",
       "  <tbody>\n",
       "    <tr>\n",
       "      <th>count</th>\n",
       "      <td>57.000000</td>\n",
       "    </tr>\n",
       "    <tr>\n",
       "      <th>mean</th>\n",
       "      <td>2.001977</td>\n",
       "    </tr>\n",
       "    <tr>\n",
       "      <th>std</th>\n",
       "      <td>15.595462</td>\n",
       "    </tr>\n",
       "    <tr>\n",
       "      <th>min</th>\n",
       "      <td>-19.627833</td>\n",
       "    </tr>\n",
       "    <tr>\n",
       "      <th>25%</th>\n",
       "      <td>-4.287941</td>\n",
       "    </tr>\n",
       "    <tr>\n",
       "      <th>50%</th>\n",
       "      <td>1.264330</td>\n",
       "    </tr>\n",
       "    <tr>\n",
       "      <th>75%</th>\n",
       "      <td>5.325475</td>\n",
       "    </tr>\n",
       "    <tr>\n",
       "      <th>max</th>\n",
       "      <td>100.000000</td>\n",
       "    </tr>\n",
       "  </tbody>\n",
       "</table>\n",
       "</div>"
      ],
      "text/plain": [
       "                0\n",
       "count   57.000000\n",
       "mean     2.001977\n",
       "std     15.595462\n",
       "min    -19.627833\n",
       "25%     -4.287941\n",
       "50%      1.264330\n",
       "75%      5.325475\n",
       "max    100.000000"
      ]
     },
     "execution_count": 9,
     "metadata": {},
     "output_type": "execute_result"
    },
    {
     "data": {
      "image/png": "[encoded data removed]",
      "text/plain": [
       "<Figure size 432x288 with 1 Axes>"
      ]
     },
     "metadata": {
      "needs_background": "light"
     },
     "output_type": "display_data"
    }
   ],
   "source": [
    "pd.DataFrame(model_fitted.resid).plot(kind = 'kde')\n",
    "plt.title(\"Error density plot\")\n",
    "pd.DataFrame(model_fitted.resid).describe()"
   ]
  },
  {
   "cell_type": "markdown",
   "id": "ec3b102e",
   "metadata": {},
   "source": [
    "Based on the density plot, it looks like the errors follow a Gaussian distribution and the mean of residual is near 0 so it indicates good fit. "
   ]
  },
  {
   "cell_type": "markdown",
   "id": "beae3e84",
   "metadata": {},
   "source": [
    "### Forcasting"
   ]
  },
  {
   "cell_type": "code",
   "execution_count": 10,
   "id": "0252222c",
   "metadata": {},
   "outputs": [
    {
     "name": "stdout",
     "output_type": "stream",
     "text": [
      "[100, 105, 87, 105, 109, 118, 131, 130, 123, 113, 106, 91, 82, 84, 86, 102, 101, 111, 121, 123, 120, 116, 104, 84, 87, 100, 85, 89, 108, 115, 123, 126, 124, 118, 108, 102, 94]\n",
      "predicted=91.909618, expected=95.000000\n",
      "predicted=97.585979, expected=97.000000\n",
      "predicted=97.821361, expected=110.000000\n",
      "predicted=116.384241, expected=114.000000\n",
      "predicted=115.086941, expected=121.000000\n",
      "predicted=124.513688, expected=126.000000\n",
      "predicted=123.314920, expected=128.000000\n",
      "predicted=128.609207, expected=124.000000\n",
      "predicted=121.535662, expected=113.000000\n",
      "predicted=108.619525, expected=110.000000\n",
      "predicted=107.421364, expected=92.000000\n",
      "predicted=86.860973, expected=94.000000\n",
      "predicted=96.589911, expected=104.000000\n",
      "predicted=104.337131, expected=108.000000\n",
      "predicted=117.174226, expected=114.000000\n",
      "predicted=116.392686, expected=112.000000\n",
      "predicted=108.531085, expected=112.000000\n",
      "predicted=111.226890, expected=115.000000\n",
      "predicted=113.083290, expected=118.000000\n",
      "predicted=119.590164, expected=116.000000\n"
     ]
    }
   ],
   "source": [
    "#Rolling cross validation\n",
    "\n",
    "X = systemwide.values\n",
    "size = int(len(X) * 0.66)\n",
    "train, test = X[0:size], X[size:len(X)]\n",
    "history = [x for x in train]\n",
    "predictions = []\n",
    "\n",
    "print(history)\n",
    "#Training \n",
    "\n",
    "for t in range(len(test)):\n",
    "    model = ARIMA(history, order=(4,1,0))\n",
    "    model_fit = model.fit()\n",
    "    pred = model_fit.forecast()\n",
    "    yhat = pred[0]\n",
    "    predictions.append(yhat)\n",
    "    obs = test[t]\n",
    "    history.append(obs)\n",
    "    print('predicted=%f, expected=%f' % (yhat, obs))"
   ]
  },
  {
   "cell_type": "code",
   "execution_count": 11,
   "id": "76c0e7a7",
   "metadata": {},
   "outputs": [
    {
     "name": "stdout",
     "output_type": "stream",
     "text": [
      "Test RMSE: 6.200\n"
     ]
    },
    {
     "data": {
      "image/png": "[encoded data removed]",
      "text/plain": [
       "<Figure size 432x288 with 1 Axes>"
      ]
     },
     "metadata": {
      "needs_background": "light"
     },
     "output_type": "display_data"
    }
   ],
   "source": [
    "# Plotting test vs prediction\n",
    "\n",
    "from math import sqrt\n",
    "from sklearn.metrics import mean_squared_error\n",
    "\n",
    "rmse = sqrt(mean_squared_error(test, predictions))\n",
    "print('Test RMSE: %.3f' % rmse)\n",
    "# plot forecasts against actual outcomes\n",
    "plt.plot(test)\n",
    "plt.plot(predictions, color='red')\n",
    "plt.legend(labels = ['test', 'prediction'])\n",
    "plt.show()"
   ]
  },
  {
   "cell_type": "markdown",
   "id": "c438d887",
   "metadata": {},
   "source": [
    "### Pretty good! Let's forecast the systemwide demand for 2024."
   ]
  },
  {
   "cell_type": "code",
   "execution_count": 12,
   "id": "cc9ade14",
   "metadata": {},
   "outputs": [],
   "source": [
    "duration = pd.date_range(start = systemwide[[-1]].index[0], end = \"2022-12-01\", freq = 'MS')"
   ]
  },
  {
   "cell_type": "code",
   "execution_count": 13,
   "id": "03476b31",
   "metadata": {},
   "outputs": [
    {
     "data": {
      "text/plain": [
       "array([116.13550416, 115.39192779, 113.82046519, 114.18985108,\n",
       "       114.03595288, 114.0650178 , 114.7025153 , 114.68889056,\n",
       "       114.7790256 , 114.881664  , 114.67044344, 114.64585717,\n",
       "       114.61131568])"
      ]
     },
     "execution_count": 13,
     "metadata": {},
     "output_type": "execute_result"
    }
   ],
   "source": [
    "X = systemwide.values\n",
    "history = list(X[:])\n",
    "pred_list = []\n",
    "\n",
    "model = ARIMA(history, order = (4,1,0))\n",
    "model_fit = model.fit()\n",
    "pred = model_fit.forecast(13)\n",
    "pred"
   ]
  },
  {
   "cell_type": "code",
   "execution_count": 14,
   "id": "96e8a158",
   "metadata": {},
   "outputs": [
    {
     "name": "stdout",
     "output_type": "stream",
     "text": [
      "[116.13550416 115.39192779 113.82046519 114.18985108 114.03595288\n",
      " 114.0650178  114.7025153  114.68889056 114.7790256  114.881664  ]\n",
      "[115.39103906 113.81720167 114.18704646 114.03276735 114.06175959\n",
      " 114.70112488 114.68748839 114.77793474 114.88109158 114.66896087]\n",
      "[113.81508802 114.18547004 114.03097846 114.05964314 114.70071734\n",
      " 114.68701961 114.77765455 114.88136911 114.66839061 114.64359567]\n",
      "[114.18649042 114.03198167 114.06070257 114.70285409 114.68881179\n",
      " 114.77952911 114.88352522 114.66982669 114.64504523 114.61024523]\n"
     ]
    }
   ],
   "source": [
    "X = systemwide.values\n",
    "history = list(X[:])\n",
    "pred_list = []\n",
    "\n",
    "for i in duration:\n",
    "    model = ARIMA(history, order = (4,1,0))\n",
    "    model_fit = model.fit()\n",
    "    pred = model_fit.forecast(10)\n",
    "    pred_list.append(pred[0])\n",
    "    history.append(pred[0])\n",
    "    print(pred)"
   ]
  },
  {
   "cell_type": "code",
   "execution_count": 15,
   "id": "2760d239",
   "metadata": {},
   "outputs": [
    {
     "data": {
      "text/plain": [
       "<AxesSubplot:>"
      ]
     },
     "execution_count": 15,
     "metadata": {},
     "output_type": "execute_result"
    },
    {
     "data": {
      "image/png": "[encoded data removed]",
      "text/plain": [
       "<Figure size 432x288 with 1 Axes>"
      ]
     },
     "metadata": {
      "needs_background": "light"
     },
     "output_type": "display_data"
    }
   ],
   "source": [
    "pd.DataFrame(history).plot()"
   ]
  },
  {
   "cell_type": "code",
   "execution_count": null,
   "id": "df504076",
   "metadata": {},
   "outputs": [],
   "source": []
  }
 ],
 "metadata": {
  "kernelspec": {
   "display_name": "Python 3 (ipykernel)",
   "language": "python",
   "name": "python3"
  },
  "language_info": {
   "codemirror_mode": {
    "name": "ipython",
    "version": 3
   },
   "file_extension": ".py",
   "mimetype": "text/x-python",
   "name": "python",
   "nbconvert_exporter": "python",
   "pygments_lexer": "ipython3",
   "version": "3.9.12"
  }
 },
 "nbformat": 4,
 "nbformat_minor": 5
}
